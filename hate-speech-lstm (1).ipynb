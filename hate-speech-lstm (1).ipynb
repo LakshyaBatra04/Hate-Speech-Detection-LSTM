{
 "cells": [
  {
   "cell_type": "code",
   "execution_count": 1,
   "id": "cde69c6b",
   "metadata": {
    "_cell_guid": "b1076dfc-b9ad-4769-8c92-a6c4dae69d19",
    "_uuid": "8f2839f25d086af736a60e9eeb907d3b93b6e0e5",
    "execution": {
     "iopub.execute_input": "2024-12-21T09:16:56.253143Z",
     "iopub.status.busy": "2024-12-21T09:16:56.252751Z",
     "iopub.status.idle": "2024-12-21T09:16:57.160793Z",
     "shell.execute_reply": "2024-12-21T09:16:57.159576Z"
    },
    "papermill": {
     "duration": 0.920679,
     "end_time": "2024-12-21T09:16:57.163592",
     "exception": false,
     "start_time": "2024-12-21T09:16:56.242913",
     "status": "completed"
    },
    "tags": []
   },
   "outputs": [
    {
     "name": "stdout",
     "output_type": "stream",
     "text": [
      "/kaggle/input/hate-speech-and-offensive-language-dataset/labeled_data.csv\n"
     ]
    }
   ],
   "source": [
    "# This Python 3 environment comes with many helpful analytics libraries installed\n",
    "# It is defined by the kaggle/python Docker image: https://github.com/kaggle/docker-python\n",
    "# For example, here's several helpful packages to load\n",
    "\n",
    "import numpy as np # linear algebra\n",
    "import pandas as pd # data processing, CSV file I/O (e.g. pd.read_csv)\n",
    "\n",
    "# Input data files are available in the read-only \"../input/\" directory\n",
    "# For example, running this (by clicking run or pressing Shift+Enter) will list all files under the input directory\n",
    "\n",
    "import os\n",
    "for dirname, _, filenames in os.walk('/kaggle/input'):\n",
    "    for filename in filenames:\n",
    "        print(os.path.join(dirname, filename))\n",
    "\n",
    "# You can write up to 20GB to the current directory (/kaggle/working/) that gets preserved as output when you create a version using \"Save & Run All\" \n",
    "# You can also write temporary files to /kaggle/temp/, but they won't be saved outside of the current session"
   ]
  },
  {
   "cell_type": "code",
   "execution_count": 2,
   "id": "b4d7a945",
   "metadata": {
    "execution": {
     "iopub.execute_input": "2024-12-21T09:16:57.181863Z",
     "iopub.status.busy": "2024-12-21T09:16:57.181361Z",
     "iopub.status.idle": "2024-12-21T09:16:57.186589Z",
     "shell.execute_reply": "2024-12-21T09:16:57.185485Z"
    },
    "papermill": {
     "duration": 0.017185,
     "end_time": "2024-12-21T09:16:57.188637",
     "exception": false,
     "start_time": "2024-12-21T09:16:57.171452",
     "status": "completed"
    },
    "tags": []
   },
   "outputs": [],
   "source": [
    "import pandas as pd;\n"
   ]
  },
  {
   "cell_type": "code",
   "execution_count": 3,
   "id": "939d52d5",
   "metadata": {
    "execution": {
     "iopub.execute_input": "2024-12-21T09:16:57.205607Z",
     "iopub.status.busy": "2024-12-21T09:16:57.205197Z",
     "iopub.status.idle": "2024-12-21T09:16:57.315072Z",
     "shell.execute_reply": "2024-12-21T09:16:57.314131Z"
    },
    "papermill": {
     "duration": 0.121114,
     "end_time": "2024-12-21T09:16:57.317458",
     "exception": false,
     "start_time": "2024-12-21T09:16:57.196344",
     "status": "completed"
    },
    "tags": []
   },
   "outputs": [],
   "source": [
    "file_path =  \"/kaggle/input/hate-speech-and-offensive-language-dataset/labeled_data.csv\"\n",
    "df = pd.read_csv(file_path)\n"
   ]
  },
  {
   "cell_type": "code",
   "execution_count": 4,
   "id": "0ce4e074",
   "metadata": {
    "execution": {
     "iopub.execute_input": "2024-12-21T09:16:57.334333Z",
     "iopub.status.busy": "2024-12-21T09:16:57.333908Z",
     "iopub.status.idle": "2024-12-21T09:16:57.353764Z",
     "shell.execute_reply": "2024-12-21T09:16:57.352665Z"
    },
    "papermill": {
     "duration": 0.031681,
     "end_time": "2024-12-21T09:16:57.356754",
     "exception": false,
     "start_time": "2024-12-21T09:16:57.325073",
     "status": "completed"
    },
    "tags": []
   },
   "outputs": [
    {
     "data": {
      "text/html": [
       "<div>\n",
       "<style scoped>\n",
       "    .dataframe tbody tr th:only-of-type {\n",
       "        vertical-align: middle;\n",
       "    }\n",
       "\n",
       "    .dataframe tbody tr th {\n",
       "        vertical-align: top;\n",
       "    }\n",
       "\n",
       "    .dataframe thead th {\n",
       "        text-align: right;\n",
       "    }\n",
       "</style>\n",
       "<table border=\"1\" class=\"dataframe\">\n",
       "  <thead>\n",
       "    <tr style=\"text-align: right;\">\n",
       "      <th></th>\n",
       "      <th>Unnamed: 0</th>\n",
       "      <th>count</th>\n",
       "      <th>hate_speech</th>\n",
       "      <th>offensive_language</th>\n",
       "      <th>neither</th>\n",
       "      <th>class</th>\n",
       "      <th>tweet</th>\n",
       "    </tr>\n",
       "  </thead>\n",
       "  <tbody>\n",
       "    <tr>\n",
       "      <th>0</th>\n",
       "      <td>0</td>\n",
       "      <td>3</td>\n",
       "      <td>0</td>\n",
       "      <td>0</td>\n",
       "      <td>3</td>\n",
       "      <td>2</td>\n",
       "      <td>!!! RT @mayasolovely: As a woman you shouldn't...</td>\n",
       "    </tr>\n",
       "    <tr>\n",
       "      <th>1</th>\n",
       "      <td>1</td>\n",
       "      <td>3</td>\n",
       "      <td>0</td>\n",
       "      <td>3</td>\n",
       "      <td>0</td>\n",
       "      <td>1</td>\n",
       "      <td>!!!!! RT @mleew17: boy dats cold...tyga dwn ba...</td>\n",
       "    </tr>\n",
       "    <tr>\n",
       "      <th>2</th>\n",
       "      <td>2</td>\n",
       "      <td>3</td>\n",
       "      <td>0</td>\n",
       "      <td>3</td>\n",
       "      <td>0</td>\n",
       "      <td>1</td>\n",
       "      <td>!!!!!!! RT @UrKindOfBrand Dawg!!!! RT @80sbaby...</td>\n",
       "    </tr>\n",
       "    <tr>\n",
       "      <th>3</th>\n",
       "      <td>3</td>\n",
       "      <td>3</td>\n",
       "      <td>0</td>\n",
       "      <td>2</td>\n",
       "      <td>1</td>\n",
       "      <td>1</td>\n",
       "      <td>!!!!!!!!! RT @C_G_Anderson: @viva_based she lo...</td>\n",
       "    </tr>\n",
       "    <tr>\n",
       "      <th>4</th>\n",
       "      <td>4</td>\n",
       "      <td>6</td>\n",
       "      <td>0</td>\n",
       "      <td>6</td>\n",
       "      <td>0</td>\n",
       "      <td>1</td>\n",
       "      <td>!!!!!!!!!!!!! RT @ShenikaRoberts: The shit you...</td>\n",
       "    </tr>\n",
       "  </tbody>\n",
       "</table>\n",
       "</div>"
      ],
      "text/plain": [
       "   Unnamed: 0  count  hate_speech  offensive_language  neither  class  \\\n",
       "0           0      3            0                   0        3      2   \n",
       "1           1      3            0                   3        0      1   \n",
       "2           2      3            0                   3        0      1   \n",
       "3           3      3            0                   2        1      1   \n",
       "4           4      6            0                   6        0      1   \n",
       "\n",
       "                                               tweet  \n",
       "0  !!! RT @mayasolovely: As a woman you shouldn't...  \n",
       "1  !!!!! RT @mleew17: boy dats cold...tyga dwn ba...  \n",
       "2  !!!!!!! RT @UrKindOfBrand Dawg!!!! RT @80sbaby...  \n",
       "3  !!!!!!!!! RT @C_G_Anderson: @viva_based she lo...  \n",
       "4  !!!!!!!!!!!!! RT @ShenikaRoberts: The shit you...  "
      ]
     },
     "execution_count": 4,
     "metadata": {},
     "output_type": "execute_result"
    }
   ],
   "source": [
    "df.head()"
   ]
  },
  {
   "cell_type": "code",
   "execution_count": 5,
   "id": "662746b6",
   "metadata": {
    "execution": {
     "iopub.execute_input": "2024-12-21T09:16:57.375141Z",
     "iopub.status.busy": "2024-12-21T09:16:57.374195Z",
     "iopub.status.idle": "2024-12-21T09:16:57.381703Z",
     "shell.execute_reply": "2024-12-21T09:16:57.380595Z"
    },
    "papermill": {
     "duration": 0.018886,
     "end_time": "2024-12-21T09:16:57.383896",
     "exception": false,
     "start_time": "2024-12-21T09:16:57.365010",
     "status": "completed"
    },
    "tags": []
   },
   "outputs": [
    {
     "data": {
      "text/plain": [
       "Index(['Unnamed: 0', 'count', 'hate_speech', 'offensive_language', 'neither',\n",
       "       'class', 'tweet'],\n",
       "      dtype='object')"
      ]
     },
     "execution_count": 5,
     "metadata": {},
     "output_type": "execute_result"
    }
   ],
   "source": [
    "df.columns\n"
   ]
  },
  {
   "cell_type": "code",
   "execution_count": 6,
   "id": "4f1d7979",
   "metadata": {
    "execution": {
     "iopub.execute_input": "2024-12-21T09:16:57.401367Z",
     "iopub.status.busy": "2024-12-21T09:16:57.400957Z",
     "iopub.status.idle": "2024-12-21T09:16:57.412708Z",
     "shell.execute_reply": "2024-12-21T09:16:57.411589Z"
    },
    "papermill": {
     "duration": 0.02328,
     "end_time": "2024-12-21T09:16:57.415038",
     "exception": false,
     "start_time": "2024-12-21T09:16:57.391758",
     "status": "completed"
    },
    "tags": []
   },
   "outputs": [],
   "source": [
    "df.drop(columns=['Unnamed: 0', 'count', 'hate_speech', 'offensive_language', 'neither'], inplace = True)"
   ]
  },
  {
   "cell_type": "code",
   "execution_count": 7,
   "id": "757e99b8",
   "metadata": {
    "execution": {
     "iopub.execute_input": "2024-12-21T09:16:57.432798Z",
     "iopub.status.busy": "2024-12-21T09:16:57.432400Z",
     "iopub.status.idle": "2024-12-21T09:16:57.442301Z",
     "shell.execute_reply": "2024-12-21T09:16:57.441212Z"
    },
    "papermill": {
     "duration": 0.021275,
     "end_time": "2024-12-21T09:16:57.444353",
     "exception": false,
     "start_time": "2024-12-21T09:16:57.423078",
     "status": "completed"
    },
    "tags": []
   },
   "outputs": [
    {
     "data": {
      "text/html": [
       "<div>\n",
       "<style scoped>\n",
       "    .dataframe tbody tr th:only-of-type {\n",
       "        vertical-align: middle;\n",
       "    }\n",
       "\n",
       "    .dataframe tbody tr th {\n",
       "        vertical-align: top;\n",
       "    }\n",
       "\n",
       "    .dataframe thead th {\n",
       "        text-align: right;\n",
       "    }\n",
       "</style>\n",
       "<table border=\"1\" class=\"dataframe\">\n",
       "  <thead>\n",
       "    <tr style=\"text-align: right;\">\n",
       "      <th></th>\n",
       "      <th>class</th>\n",
       "      <th>tweet</th>\n",
       "    </tr>\n",
       "  </thead>\n",
       "  <tbody>\n",
       "    <tr>\n",
       "      <th>0</th>\n",
       "      <td>2</td>\n",
       "      <td>!!! RT @mayasolovely: As a woman you shouldn't...</td>\n",
       "    </tr>\n",
       "    <tr>\n",
       "      <th>1</th>\n",
       "      <td>1</td>\n",
       "      <td>!!!!! RT @mleew17: boy dats cold...tyga dwn ba...</td>\n",
       "    </tr>\n",
       "    <tr>\n",
       "      <th>2</th>\n",
       "      <td>1</td>\n",
       "      <td>!!!!!!! RT @UrKindOfBrand Dawg!!!! RT @80sbaby...</td>\n",
       "    </tr>\n",
       "    <tr>\n",
       "      <th>3</th>\n",
       "      <td>1</td>\n",
       "      <td>!!!!!!!!! RT @C_G_Anderson: @viva_based she lo...</td>\n",
       "    </tr>\n",
       "    <tr>\n",
       "      <th>4</th>\n",
       "      <td>1</td>\n",
       "      <td>!!!!!!!!!!!!! RT @ShenikaRoberts: The shit you...</td>\n",
       "    </tr>\n",
       "  </tbody>\n",
       "</table>\n",
       "</div>"
      ],
      "text/plain": [
       "   class                                              tweet\n",
       "0      2  !!! RT @mayasolovely: As a woman you shouldn't...\n",
       "1      1  !!!!! RT @mleew17: boy dats cold...tyga dwn ba...\n",
       "2      1  !!!!!!! RT @UrKindOfBrand Dawg!!!! RT @80sbaby...\n",
       "3      1  !!!!!!!!! RT @C_G_Anderson: @viva_based she lo...\n",
       "4      1  !!!!!!!!!!!!! RT @ShenikaRoberts: The shit you..."
      ]
     },
     "execution_count": 7,
     "metadata": {},
     "output_type": "execute_result"
    }
   ],
   "source": [
    "df.head()"
   ]
  },
  {
   "cell_type": "code",
   "execution_count": 8,
   "id": "4b95e8dc",
   "metadata": {
    "execution": {
     "iopub.execute_input": "2024-12-21T09:16:57.463155Z",
     "iopub.status.busy": "2024-12-21T09:16:57.462135Z",
     "iopub.status.idle": "2024-12-21T09:16:57.474866Z",
     "shell.execute_reply": "2024-12-21T09:16:57.473738Z"
    },
    "papermill": {
     "duration": 0.024331,
     "end_time": "2024-12-21T09:16:57.476996",
     "exception": false,
     "start_time": "2024-12-21T09:16:57.452665",
     "status": "completed"
    },
    "tags": []
   },
   "outputs": [
    {
     "data": {
      "text/plain": [
       "class    0\n",
       "tweet    0\n",
       "dtype: int64"
      ]
     },
     "execution_count": 8,
     "metadata": {},
     "output_type": "execute_result"
    }
   ],
   "source": [
    "df.isna().sum()"
   ]
  },
  {
   "cell_type": "code",
   "execution_count": 9,
   "id": "af6b89b1",
   "metadata": {
    "execution": {
     "iopub.execute_input": "2024-12-21T09:16:57.495038Z",
     "iopub.status.busy": "2024-12-21T09:16:57.494603Z",
     "iopub.status.idle": "2024-12-21T09:16:57.501583Z",
     "shell.execute_reply": "2024-12-21T09:16:57.500474Z"
    },
    "papermill": {
     "duration": 0.018676,
     "end_time": "2024-12-21T09:16:57.503905",
     "exception": false,
     "start_time": "2024-12-21T09:16:57.485229",
     "status": "completed"
    },
    "tags": []
   },
   "outputs": [
    {
     "data": {
      "text/plain": [
       "'\"@ClicquotSuave: LMAOOOOOOOOOOO this nigga @Krillz_Nuh_Care http://t.co/AAnpSUjmYI\" &lt;bitch want likes for some depressing shit..foh'"
      ]
     },
     "execution_count": 9,
     "metadata": {},
     "output_type": "execute_result"
    }
   ],
   "source": [
    "df['tweet'].iloc[100]"
   ]
  },
  {
   "cell_type": "code",
   "execution_count": 10,
   "id": "c53385c9",
   "metadata": {
    "execution": {
     "iopub.execute_input": "2024-12-21T09:16:57.522163Z",
     "iopub.status.busy": "2024-12-21T09:16:57.521680Z",
     "iopub.status.idle": "2024-12-21T09:16:57.683202Z",
     "shell.execute_reply": "2024-12-21T09:16:57.682282Z"
    },
    "papermill": {
     "duration": 0.173522,
     "end_time": "2024-12-21T09:16:57.685602",
     "exception": false,
     "start_time": "2024-12-21T09:16:57.512080",
     "status": "completed"
    },
    "tags": []
   },
   "outputs": [],
   "source": [
    "df['processed_tweet'] = df['tweet'].str.replace(r'[^a-zA-Z]',' ',regex =True)"
   ]
  },
  {
   "cell_type": "code",
   "execution_count": 11,
   "id": "c1042fca",
   "metadata": {
    "execution": {
     "iopub.execute_input": "2024-12-21T09:16:57.703665Z",
     "iopub.status.busy": "2024-12-21T09:16:57.703231Z",
     "iopub.status.idle": "2024-12-21T09:16:57.713384Z",
     "shell.execute_reply": "2024-12-21T09:16:57.712286Z"
    },
    "papermill": {
     "duration": 0.02168,
     "end_time": "2024-12-21T09:16:57.715428",
     "exception": false,
     "start_time": "2024-12-21T09:16:57.693748",
     "status": "completed"
    },
    "tags": []
   },
   "outputs": [
    {
     "data": {
      "text/html": [
       "<div>\n",
       "<style scoped>\n",
       "    .dataframe tbody tr th:only-of-type {\n",
       "        vertical-align: middle;\n",
       "    }\n",
       "\n",
       "    .dataframe tbody tr th {\n",
       "        vertical-align: top;\n",
       "    }\n",
       "\n",
       "    .dataframe thead th {\n",
       "        text-align: right;\n",
       "    }\n",
       "</style>\n",
       "<table border=\"1\" class=\"dataframe\">\n",
       "  <thead>\n",
       "    <tr style=\"text-align: right;\">\n",
       "      <th></th>\n",
       "      <th>class</th>\n",
       "      <th>tweet</th>\n",
       "      <th>processed_tweet</th>\n",
       "    </tr>\n",
       "  </thead>\n",
       "  <tbody>\n",
       "    <tr>\n",
       "      <th>0</th>\n",
       "      <td>2</td>\n",
       "      <td>!!! RT @mayasolovely: As a woman you shouldn't...</td>\n",
       "      <td>RT  mayasolovely  As a woman you shouldn t...</td>\n",
       "    </tr>\n",
       "    <tr>\n",
       "      <th>1</th>\n",
       "      <td>1</td>\n",
       "      <td>!!!!! RT @mleew17: boy dats cold...tyga dwn ba...</td>\n",
       "      <td>RT  mleew    boy dats cold   tyga dwn ba...</td>\n",
       "    </tr>\n",
       "    <tr>\n",
       "      <th>2</th>\n",
       "      <td>1</td>\n",
       "      <td>!!!!!!! RT @UrKindOfBrand Dawg!!!! RT @80sbaby...</td>\n",
       "      <td>RT  UrKindOfBrand Dawg     RT    sbaby...</td>\n",
       "    </tr>\n",
       "    <tr>\n",
       "      <th>3</th>\n",
       "      <td>1</td>\n",
       "      <td>!!!!!!!!! RT @C_G_Anderson: @viva_based she lo...</td>\n",
       "      <td>RT  C G Anderson   viva based she lo...</td>\n",
       "    </tr>\n",
       "    <tr>\n",
       "      <th>4</th>\n",
       "      <td>1</td>\n",
       "      <td>!!!!!!!!!!!!! RT @ShenikaRoberts: The shit you...</td>\n",
       "      <td>RT  ShenikaRoberts  The shit you...</td>\n",
       "    </tr>\n",
       "  </tbody>\n",
       "</table>\n",
       "</div>"
      ],
      "text/plain": [
       "   class                                              tweet  \\\n",
       "0      2  !!! RT @mayasolovely: As a woman you shouldn't...   \n",
       "1      1  !!!!! RT @mleew17: boy dats cold...tyga dwn ba...   \n",
       "2      1  !!!!!!! RT @UrKindOfBrand Dawg!!!! RT @80sbaby...   \n",
       "3      1  !!!!!!!!! RT @C_G_Anderson: @viva_based she lo...   \n",
       "4      1  !!!!!!!!!!!!! RT @ShenikaRoberts: The shit you...   \n",
       "\n",
       "                                     processed_tweet  \n",
       "0      RT  mayasolovely  As a woman you shouldn t...  \n",
       "1        RT  mleew    boy dats cold   tyga dwn ba...  \n",
       "2          RT  UrKindOfBrand Dawg     RT    sbaby...  \n",
       "3            RT  C G Anderson   viva based she lo...  \n",
       "4                RT  ShenikaRoberts  The shit you...  "
      ]
     },
     "execution_count": 11,
     "metadata": {},
     "output_type": "execute_result"
    }
   ],
   "source": [
    "df.head()"
   ]
  },
  {
   "cell_type": "code",
   "execution_count": 12,
   "id": "2d1a907a",
   "metadata": {
    "execution": {
     "iopub.execute_input": "2024-12-21T09:16:57.734026Z",
     "iopub.status.busy": "2024-12-21T09:16:57.733621Z",
     "iopub.status.idle": "2024-12-21T09:16:57.739752Z",
     "shell.execute_reply": "2024-12-21T09:16:57.738564Z"
    },
    "papermill": {
     "duration": 0.017796,
     "end_time": "2024-12-21T09:16:57.741871",
     "exception": false,
     "start_time": "2024-12-21T09:16:57.724075",
     "status": "completed"
    },
    "tags": []
   },
   "outputs": [
    {
     "name": "stdout",
     "output_type": "stream",
     "text": [
      "\"@ClicquotSuave: LMAOOOOOOOOOOO this nigga @Krillz_Nuh_Care http://t.co/AAnpSUjmYI\" &lt;bitch want likes for some depressing shit..foh\n",
      "  ClicquotSuave  LMAOOOOOOOOOOO this nigga  Krillz Nuh Care http   t co AAnpSUjmYI   lt bitch want likes for some depressing shit  foh\n"
     ]
    }
   ],
   "source": [
    "print(df['tweet'].iloc[100])\n",
    "print(df['processed_tweet'].iloc[100])"
   ]
  },
  {
   "cell_type": "code",
   "execution_count": 13,
   "id": "f7d1545e",
   "metadata": {
    "execution": {
     "iopub.execute_input": "2024-12-21T09:16:57.759924Z",
     "iopub.status.busy": "2024-12-21T09:16:57.759574Z",
     "iopub.status.idle": "2024-12-21T09:16:57.914663Z",
     "shell.execute_reply": "2024-12-21T09:16:57.913541Z"
    },
    "papermill": {
     "duration": 0.166989,
     "end_time": "2024-12-21T09:16:57.917147",
     "exception": false,
     "start_time": "2024-12-21T09:16:57.750158",
     "status": "completed"
    },
    "tags": []
   },
   "outputs": [],
   "source": [
    "df['processed_tweet_2'] = df['processed_tweet'].str.replace(r'[\\s]+',' ',regex = True)"
   ]
  },
  {
   "cell_type": "code",
   "execution_count": 14,
   "id": "16b329f3",
   "metadata": {
    "execution": {
     "iopub.execute_input": "2024-12-21T09:16:57.936153Z",
     "iopub.status.busy": "2024-12-21T09:16:57.935090Z",
     "iopub.status.idle": "2024-12-21T09:16:57.946366Z",
     "shell.execute_reply": "2024-12-21T09:16:57.945274Z"
    },
    "papermill": {
     "duration": 0.022907,
     "end_time": "2024-12-21T09:16:57.948507",
     "exception": false,
     "start_time": "2024-12-21T09:16:57.925600",
     "status": "completed"
    },
    "tags": []
   },
   "outputs": [
    {
     "data": {
      "text/html": [
       "<div>\n",
       "<style scoped>\n",
       "    .dataframe tbody tr th:only-of-type {\n",
       "        vertical-align: middle;\n",
       "    }\n",
       "\n",
       "    .dataframe tbody tr th {\n",
       "        vertical-align: top;\n",
       "    }\n",
       "\n",
       "    .dataframe thead th {\n",
       "        text-align: right;\n",
       "    }\n",
       "</style>\n",
       "<table border=\"1\" class=\"dataframe\">\n",
       "  <thead>\n",
       "    <tr style=\"text-align: right;\">\n",
       "      <th></th>\n",
       "      <th>class</th>\n",
       "      <th>tweet</th>\n",
       "      <th>processed_tweet</th>\n",
       "      <th>processed_tweet_2</th>\n",
       "    </tr>\n",
       "  </thead>\n",
       "  <tbody>\n",
       "    <tr>\n",
       "      <th>0</th>\n",
       "      <td>2</td>\n",
       "      <td>!!! RT @mayasolovely: As a woman you shouldn't...</td>\n",
       "      <td>RT  mayasolovely  As a woman you shouldn t...</td>\n",
       "      <td>RT mayasolovely As a woman you shouldn t comp...</td>\n",
       "    </tr>\n",
       "    <tr>\n",
       "      <th>1</th>\n",
       "      <td>1</td>\n",
       "      <td>!!!!! RT @mleew17: boy dats cold...tyga dwn ba...</td>\n",
       "      <td>RT  mleew    boy dats cold   tyga dwn ba...</td>\n",
       "      <td>RT mleew boy dats cold tyga dwn bad for cuffi...</td>\n",
       "    </tr>\n",
       "    <tr>\n",
       "      <th>2</th>\n",
       "      <td>1</td>\n",
       "      <td>!!!!!!! RT @UrKindOfBrand Dawg!!!! RT @80sbaby...</td>\n",
       "      <td>RT  UrKindOfBrand Dawg     RT    sbaby...</td>\n",
       "      <td>RT UrKindOfBrand Dawg RT sbaby life You ever ...</td>\n",
       "    </tr>\n",
       "    <tr>\n",
       "      <th>3</th>\n",
       "      <td>1</td>\n",
       "      <td>!!!!!!!!! RT @C_G_Anderson: @viva_based she lo...</td>\n",
       "      <td>RT  C G Anderson   viva based she lo...</td>\n",
       "      <td>RT C G Anderson viva based she look like a tr...</td>\n",
       "    </tr>\n",
       "    <tr>\n",
       "      <th>4</th>\n",
       "      <td>1</td>\n",
       "      <td>!!!!!!!!!!!!! RT @ShenikaRoberts: The shit you...</td>\n",
       "      <td>RT  ShenikaRoberts  The shit you...</td>\n",
       "      <td>RT ShenikaRoberts The shit you hear about me ...</td>\n",
       "    </tr>\n",
       "  </tbody>\n",
       "</table>\n",
       "</div>"
      ],
      "text/plain": [
       "   class                                              tweet  \\\n",
       "0      2  !!! RT @mayasolovely: As a woman you shouldn't...   \n",
       "1      1  !!!!! RT @mleew17: boy dats cold...tyga dwn ba...   \n",
       "2      1  !!!!!!! RT @UrKindOfBrand Dawg!!!! RT @80sbaby...   \n",
       "3      1  !!!!!!!!! RT @C_G_Anderson: @viva_based she lo...   \n",
       "4      1  !!!!!!!!!!!!! RT @ShenikaRoberts: The shit you...   \n",
       "\n",
       "                                     processed_tweet  \\\n",
       "0      RT  mayasolovely  As a woman you shouldn t...   \n",
       "1        RT  mleew    boy dats cold   tyga dwn ba...   \n",
       "2          RT  UrKindOfBrand Dawg     RT    sbaby...   \n",
       "3            RT  C G Anderson   viva based she lo...   \n",
       "4                RT  ShenikaRoberts  The shit you...   \n",
       "\n",
       "                                   processed_tweet_2  \n",
       "0   RT mayasolovely As a woman you shouldn t comp...  \n",
       "1   RT mleew boy dats cold tyga dwn bad for cuffi...  \n",
       "2   RT UrKindOfBrand Dawg RT sbaby life You ever ...  \n",
       "3   RT C G Anderson viva based she look like a tr...  \n",
       "4   RT ShenikaRoberts The shit you hear about me ...  "
      ]
     },
     "execution_count": 14,
     "metadata": {},
     "output_type": "execute_result"
    }
   ],
   "source": [
    "df.head()"
   ]
  },
  {
   "cell_type": "code",
   "execution_count": 15,
   "id": "63d716b6",
   "metadata": {
    "execution": {
     "iopub.execute_input": "2024-12-21T09:16:57.967423Z",
     "iopub.status.busy": "2024-12-21T09:16:57.967028Z",
     "iopub.status.idle": "2024-12-21T09:16:57.975675Z",
     "shell.execute_reply": "2024-12-21T09:16:57.974617Z"
    },
    "papermill": {
     "duration": 0.020473,
     "end_time": "2024-12-21T09:16:57.977892",
     "exception": false,
     "start_time": "2024-12-21T09:16:57.957419",
     "status": "completed"
    },
    "tags": []
   },
   "outputs": [],
   "source": [
    "df.drop(columns=['tweet','processed_tweet'],inplace= True)"
   ]
  },
  {
   "cell_type": "code",
   "execution_count": 16,
   "id": "9ba7a0e7",
   "metadata": {
    "execution": {
     "iopub.execute_input": "2024-12-21T09:16:57.996533Z",
     "iopub.status.busy": "2024-12-21T09:16:57.996152Z",
     "iopub.status.idle": "2024-12-21T09:17:03.944199Z",
     "shell.execute_reply": "2024-12-21T09:17:03.943177Z"
    },
    "papermill": {
     "duration": 5.960211,
     "end_time": "2024-12-21T09:17:03.946743",
     "exception": false,
     "start_time": "2024-12-21T09:16:57.986532",
     "status": "completed"
    },
    "tags": []
   },
   "outputs": [],
   "source": [
    "import spacy\n",
    "nlp = spacy.load('en_core_web_sm')"
   ]
  },
  {
   "cell_type": "code",
   "execution_count": 17,
   "id": "80662e99",
   "metadata": {
    "execution": {
     "iopub.execute_input": "2024-12-21T09:17:03.966012Z",
     "iopub.status.busy": "2024-12-21T09:17:03.965352Z",
     "iopub.status.idle": "2024-12-21T09:17:03.971052Z",
     "shell.execute_reply": "2024-12-21T09:17:03.969961Z"
    },
    "papermill": {
     "duration": 0.017684,
     "end_time": "2024-12-21T09:17:03.973200",
     "exception": false,
     "start_time": "2024-12-21T09:17:03.955516",
     "status": "completed"
    },
    "tags": []
   },
   "outputs": [],
   "source": [
    "#LEMMETISATION\n",
    "def lemmetize_text(text):\n",
    "    doc = nlp(text)\n",
    "    lemma = [word.lemma_ for word in doc]\n",
    "    return ' '.join(lemma)\n"
   ]
  },
  {
   "cell_type": "code",
   "execution_count": 18,
   "id": "647fc6a4",
   "metadata": {
    "execution": {
     "iopub.execute_input": "2024-12-21T09:17:03.994883Z",
     "iopub.status.busy": "2024-12-21T09:17:03.994402Z",
     "iopub.status.idle": "2024-12-21T09:19:55.283511Z",
     "shell.execute_reply": "2024-12-21T09:19:55.282494Z"
    },
    "papermill": {
     "duration": 171.301515,
     "end_time": "2024-12-21T09:19:55.286161",
     "exception": false,
     "start_time": "2024-12-21T09:17:03.984646",
     "status": "completed"
    },
    "tags": []
   },
   "outputs": [],
   "source": [
    " df['lemma_tweet'] = df['processed_tweet_2'].apply(lemmetize_text)"
   ]
  },
  {
   "cell_type": "code",
   "execution_count": 19,
   "id": "1d5487ac",
   "metadata": {
    "execution": {
     "iopub.execute_input": "2024-12-21T09:19:55.305651Z",
     "iopub.status.busy": "2024-12-21T09:19:55.305207Z",
     "iopub.status.idle": "2024-12-21T09:19:55.316325Z",
     "shell.execute_reply": "2024-12-21T09:19:55.315172Z"
    },
    "papermill": {
     "duration": 0.023543,
     "end_time": "2024-12-21T09:19:55.318614",
     "exception": false,
     "start_time": "2024-12-21T09:19:55.295071",
     "status": "completed"
    },
    "tags": []
   },
   "outputs": [
    {
     "data": {
      "text/html": [
       "<div>\n",
       "<style scoped>\n",
       "    .dataframe tbody tr th:only-of-type {\n",
       "        vertical-align: middle;\n",
       "    }\n",
       "\n",
       "    .dataframe tbody tr th {\n",
       "        vertical-align: top;\n",
       "    }\n",
       "\n",
       "    .dataframe thead th {\n",
       "        text-align: right;\n",
       "    }\n",
       "</style>\n",
       "<table border=\"1\" class=\"dataframe\">\n",
       "  <thead>\n",
       "    <tr style=\"text-align: right;\">\n",
       "      <th></th>\n",
       "      <th>class</th>\n",
       "      <th>processed_tweet_2</th>\n",
       "      <th>lemma_tweet</th>\n",
       "    </tr>\n",
       "  </thead>\n",
       "  <tbody>\n",
       "    <tr>\n",
       "      <th>0</th>\n",
       "      <td>2</td>\n",
       "      <td>RT mayasolovely As a woman you shouldn t comp...</td>\n",
       "      <td>RT mayasolovely as a woman you shouldn t com...</td>\n",
       "    </tr>\n",
       "    <tr>\n",
       "      <th>1</th>\n",
       "      <td>1</td>\n",
       "      <td>RT mleew boy dats cold tyga dwn bad for cuffi...</td>\n",
       "      <td>RT mleew boy dat cold tyga dwn bad for cuffi...</td>\n",
       "    </tr>\n",
       "    <tr>\n",
       "      <th>2</th>\n",
       "      <td>1</td>\n",
       "      <td>RT UrKindOfBrand Dawg RT sbaby life You ever ...</td>\n",
       "      <td>RT UrKindOfBrand Dawg RT sbaby life you ever...</td>\n",
       "    </tr>\n",
       "    <tr>\n",
       "      <th>3</th>\n",
       "      <td>1</td>\n",
       "      <td>RT C G Anderson viva based she look like a tr...</td>\n",
       "      <td>RT C G Anderson viva base she look like a tr...</td>\n",
       "    </tr>\n",
       "    <tr>\n",
       "      <th>4</th>\n",
       "      <td>1</td>\n",
       "      <td>RT ShenikaRoberts The shit you hear about me ...</td>\n",
       "      <td>RT ShenikaRoberts the shit you hear about I ...</td>\n",
       "    </tr>\n",
       "  </tbody>\n",
       "</table>\n",
       "</div>"
      ],
      "text/plain": [
       "   class                                  processed_tweet_2  \\\n",
       "0      2   RT mayasolovely As a woman you shouldn t comp...   \n",
       "1      1   RT mleew boy dats cold tyga dwn bad for cuffi...   \n",
       "2      1   RT UrKindOfBrand Dawg RT sbaby life You ever ...   \n",
       "3      1   RT C G Anderson viva based she look like a tr...   \n",
       "4      1   RT ShenikaRoberts The shit you hear about me ...   \n",
       "\n",
       "                                         lemma_tweet  \n",
       "0    RT mayasolovely as a woman you shouldn t com...  \n",
       "1    RT mleew boy dat cold tyga dwn bad for cuffi...  \n",
       "2    RT UrKindOfBrand Dawg RT sbaby life you ever...  \n",
       "3    RT C G Anderson viva base she look like a tr...  \n",
       "4    RT ShenikaRoberts the shit you hear about I ...  "
      ]
     },
     "execution_count": 19,
     "metadata": {},
     "output_type": "execute_result"
    }
   ],
   "source": [
    "df.head()"
   ]
  },
  {
   "cell_type": "code",
   "execution_count": 20,
   "id": "f60578e8",
   "metadata": {
    "execution": {
     "iopub.execute_input": "2024-12-21T09:19:55.337900Z",
     "iopub.status.busy": "2024-12-21T09:19:55.337463Z",
     "iopub.status.idle": "2024-12-21T09:19:55.343136Z",
     "shell.execute_reply": "2024-12-21T09:19:55.342071Z"
    },
    "papermill": {
     "duration": 0.017642,
     "end_time": "2024-12-21T09:19:55.345112",
     "exception": false,
     "start_time": "2024-12-21T09:19:55.327470",
     "status": "completed"
    },
    "tags": []
   },
   "outputs": [],
   "source": [
    "#remove stopwords\n",
    "def remove_stopwords(text):\n",
    "    doc = nlp(text)\n",
    "    stopwords_removed_list = [word.text for word in doc if not word.is_stop]\n",
    "    return ' '.join(stopwords_removed_list)\n",
    "\n"
   ]
  },
  {
   "cell_type": "code",
   "execution_count": 21,
   "id": "70ce1701",
   "metadata": {
    "execution": {
     "iopub.execute_input": "2024-12-21T09:19:55.364334Z",
     "iopub.status.busy": "2024-12-21T09:19:55.363617Z",
     "iopub.status.idle": "2024-12-21T09:22:43.316165Z",
     "shell.execute_reply": "2024-12-21T09:22:43.314872Z"
    },
    "papermill": {
     "duration": 167.965318,
     "end_time": "2024-12-21T09:22:43.319136",
     "exception": false,
     "start_time": "2024-12-21T09:19:55.353818",
     "status": "completed"
    },
    "tags": []
   },
   "outputs": [],
   "source": [
    "df['final_tweet'] = df['lemma_tweet'].apply(remove_stopwords)"
   ]
  },
  {
   "cell_type": "code",
   "execution_count": 22,
   "id": "040e205f",
   "metadata": {
    "execution": {
     "iopub.execute_input": "2024-12-21T09:22:43.338698Z",
     "iopub.status.busy": "2024-12-21T09:22:43.338271Z",
     "iopub.status.idle": "2024-12-21T09:22:57.779517Z",
     "shell.execute_reply": "2024-12-21T09:22:57.778222Z"
    },
    "papermill": {
     "duration": 14.45393,
     "end_time": "2024-12-21T09:22:57.782073",
     "exception": false,
     "start_time": "2024-12-21T09:22:43.328143",
     "status": "completed"
    },
    "tags": []
   },
   "outputs": [],
   "source": [
    "from tensorflow.keras.preprocessing.text import one_hot\n",
    "vocab_size = 10000\n",
    "\n",
    "one_hot_representation = [one_hot(words,vocab_size) for words in df['final_tweet']]"
   ]
  },
  {
   "cell_type": "code",
   "execution_count": 23,
   "id": "0e41a23a",
   "metadata": {
    "execution": {
     "iopub.execute_input": "2024-12-21T09:22:57.801727Z",
     "iopub.status.busy": "2024-12-21T09:22:57.801040Z",
     "iopub.status.idle": "2024-12-21T09:22:57.807178Z",
     "shell.execute_reply": "2024-12-21T09:22:57.806146Z"
    },
    "papermill": {
     "duration": 0.018466,
     "end_time": "2024-12-21T09:22:57.809496",
     "exception": false,
     "start_time": "2024-12-21T09:22:57.791030",
     "status": "completed"
    },
    "tags": []
   },
   "outputs": [
    {
     "name": "stdout",
     "output_type": "stream",
     "text": [
      "[6564, 8738, 8820, 7029, 5445, 2411, 841, 905, 7565, 2769, 289]\n",
      "[6564, 8340, 9395, 8162, 1536, 2711, 7668, 6490, 8932, 8162, 1746, 4885, 8547]\n",
      "[6564, 8222, 2872, 6564, 3886, 2473, 2832, 9430, 8393, 1131, 1671, 3989]\n",
      "[6564, 5152, 4256, 2582, 6072, 5121, 9028, 5945, 5635]\n"
     ]
    }
   ],
   "source": [
    "for i in range(0,4):\n",
    "    print(one_hot_representation[i])"
   ]
  },
  {
   "cell_type": "code",
   "execution_count": 24,
   "id": "a261eaff",
   "metadata": {
    "execution": {
     "iopub.execute_input": "2024-12-21T09:22:57.829056Z",
     "iopub.status.busy": "2024-12-21T09:22:57.828520Z",
     "iopub.status.idle": "2024-12-21T09:22:57.893809Z",
     "shell.execute_reply": "2024-12-21T09:22:57.892176Z"
    },
    "papermill": {
     "duration": 0.078321,
     "end_time": "2024-12-21T09:22:57.896566",
     "exception": false,
     "start_time": "2024-12-21T09:22:57.818245",
     "status": "completed"
    },
    "tags": []
   },
   "outputs": [
    {
     "name": "stdout",
     "output_type": "stream",
     "text": [
      "[[   0    0    0 ... 7565 2769  289]\n",
      " [   0    0    0 ... 1746 4885 8547]\n",
      " [   0    0    0 ... 1131 1671 3989]\n",
      " ...\n",
      " [   0    0    0 ... 5945 3120 7508]\n",
      " [   0    0    0 ... 9430 3003 4892]\n",
      " [   0    0    0 ...  279 7729 2596]]\n"
     ]
    }
   ],
   "source": [
    "from tensorflow.keras.preprocessing.sequence import pad_sequences\n",
    "\n",
    "# Define a desired sequence length\n",
    "sentence_length = 30\n",
    "\n",
    "# One-hot representations of your input text (example)\n",
    "\n",
    "\n",
    "# Pad sequences\n",
    "padded_tweet = pad_sequences(one_hot_representation, padding='pre', maxlen=sentence_length)\n",
    "\n",
    "# Output the padded sequences\n",
    "print(padded_tweet)\n"
   ]
  },
  {
   "cell_type": "code",
   "execution_count": 25,
   "id": "f7846118",
   "metadata": {
    "execution": {
     "iopub.execute_input": "2024-12-21T09:22:57.915802Z",
     "iopub.status.busy": "2024-12-21T09:22:57.915388Z",
     "iopub.status.idle": "2024-12-21T09:22:57.921701Z",
     "shell.execute_reply": "2024-12-21T09:22:57.920529Z"
    },
    "papermill": {
     "duration": 0.01869,
     "end_time": "2024-12-21T09:22:57.923991",
     "exception": false,
     "start_time": "2024-12-21T09:22:57.905301",
     "status": "completed"
    },
    "tags": []
   },
   "outputs": [],
   "source": [
    "import numpy as np;\n",
    "\n",
    "X = np.array(padded_tweet)\n",
    "y = np.array(df['class'])"
   ]
  },
  {
   "cell_type": "code",
   "execution_count": 26,
   "id": "47be7669",
   "metadata": {
    "execution": {
     "iopub.execute_input": "2024-12-21T09:22:57.943689Z",
     "iopub.status.busy": "2024-12-21T09:22:57.943212Z",
     "iopub.status.idle": "2024-12-21T09:22:57.956890Z",
     "shell.execute_reply": "2024-12-21T09:22:57.955730Z"
    },
    "papermill": {
     "duration": 0.026284,
     "end_time": "2024-12-21T09:22:57.959311",
     "exception": false,
     "start_time": "2024-12-21T09:22:57.933027",
     "status": "completed"
    },
    "tags": []
   },
   "outputs": [
    {
     "data": {
      "text/plain": [
       "class\n",
       "1    19190\n",
       "2     4163\n",
       "0     1430\n",
       "Name: count, dtype: int64"
      ]
     },
     "execution_count": 26,
     "metadata": {},
     "output_type": "execute_result"
    }
   ],
   "source": [
    "df['class'].value_counts()"
   ]
  },
  {
   "cell_type": "code",
   "execution_count": 27,
   "id": "7cacb870",
   "metadata": {
    "execution": {
     "iopub.execute_input": "2024-12-21T09:22:57.978879Z",
     "iopub.status.busy": "2024-12-21T09:22:57.978494Z",
     "iopub.status.idle": "2024-12-21T09:22:59.984372Z",
     "shell.execute_reply": "2024-12-21T09:22:59.982894Z"
    },
    "papermill": {
     "duration": 2.020927,
     "end_time": "2024-12-21T09:22:59.989155",
     "exception": false,
     "start_time": "2024-12-21T09:22:57.968228",
     "status": "completed"
    },
    "tags": []
   },
   "outputs": [],
   "source": [
    "from imblearn.over_sampling import SMOTE\n",
    "smote = SMOTE(sampling_strategy = 'minority')\n",
    "X,y =smote.fit_resample(X,y)"
   ]
  },
  {
   "cell_type": "code",
   "execution_count": null,
   "id": "36ae2aa0",
   "metadata": {
    "execution": {
     "iopub.execute_input": "2024-12-07T20:54:06.442535Z",
     "iopub.status.busy": "2024-12-07T20:54:06.442111Z",
     "iopub.status.idle": "2024-12-07T20:54:07.069274Z",
     "shell.execute_reply": "2024-12-07T20:54:07.067833Z",
     "shell.execute_reply.started": "2024-12-07T20:54:06.442497Z"
    },
    "papermill": {
     "duration": 0.008836,
     "end_time": "2024-12-21T09:23:00.017676",
     "exception": false,
     "start_time": "2024-12-21T09:23:00.008840",
     "status": "completed"
    },
    "tags": []
   },
   "outputs": [],
   "source": []
  },
  {
   "cell_type": "code",
   "execution_count": 28,
   "id": "7e83da3e",
   "metadata": {
    "execution": {
     "iopub.execute_input": "2024-12-21T09:23:00.038271Z",
     "iopub.status.busy": "2024-12-21T09:23:00.037613Z",
     "iopub.status.idle": "2024-12-21T09:23:00.049176Z",
     "shell.execute_reply": "2024-12-21T09:23:00.048246Z"
    },
    "papermill": {
     "duration": 0.024398,
     "end_time": "2024-12-21T09:23:00.051507",
     "exception": false,
     "start_time": "2024-12-21T09:23:00.027109",
     "status": "completed"
    },
    "tags": []
   },
   "outputs": [],
   "source": [
    "from sklearn.model_selection import train_test_split\n",
    "X_train,X_test,y_train,y_test = train_test_split(X,y,test_size = 0.2,random_state=69)\n"
   ]
  },
  {
   "cell_type": "code",
   "execution_count": 29,
   "id": "8763232b",
   "metadata": {
    "execution": {
     "iopub.execute_input": "2024-12-21T09:23:00.071355Z",
     "iopub.status.busy": "2024-12-21T09:23:00.070933Z",
     "iopub.status.idle": "2024-12-21T09:23:00.077995Z",
     "shell.execute_reply": "2024-12-21T09:23:00.076930Z"
    },
    "papermill": {
     "duration": 0.019628,
     "end_time": "2024-12-21T09:23:00.080131",
     "exception": false,
     "start_time": "2024-12-21T09:23:00.060503",
     "status": "completed"
    },
    "tags": []
   },
   "outputs": [
    {
     "data": {
      "text/plain": [
       "((34034, 30), (8509, 30))"
      ]
     },
     "execution_count": 29,
     "metadata": {},
     "output_type": "execute_result"
    }
   ],
   "source": [
    "X_train.shape,X_test.shape"
   ]
  },
  {
   "cell_type": "code",
   "execution_count": 30,
   "id": "f7113233",
   "metadata": {
    "execution": {
     "iopub.execute_input": "2024-12-21T09:23:00.100728Z",
     "iopub.status.busy": "2024-12-21T09:23:00.099853Z",
     "iopub.status.idle": "2024-12-21T09:23:00.179055Z",
     "shell.execute_reply": "2024-12-21T09:23:00.177919Z"
    },
    "papermill": {
     "duration": 0.092176,
     "end_time": "2024-12-21T09:23:00.181370",
     "exception": false,
     "start_time": "2024-12-21T09:23:00.089194",
     "status": "completed"
    },
    "tags": []
   },
   "outputs": [
    {
     "name": "stderr",
     "output_type": "stream",
     "text": [
      "/opt/conda/lib/python3.10/site-packages/keras/src/layers/core/embedding.py:90: UserWarning: Argument `input_length` is deprecated. Just remove it.\n",
      "  warnings.warn(\n"
     ]
    }
   ],
   "source": [
    "import tensorflow as tf\n",
    "from tensorflow import keras\n",
    "\n",
    "# Define model parameters\n",
    "dimension = 50\n",
    "\n",
    "# Define the Sequential model\n",
    "model = keras.Sequential([\n",
    "    keras.layers.Embedding(vocab_size, dimension, input_length=sentence_length),  \n",
    "    keras.layers.LSTM(100, return_sequences=True),\n",
    "    keras.layers.LSTM(100, return_sequences=True),  \n",
    "    keras.layers.LSTM(50),                         \n",
    "    keras.layers.Dense(3, activation='softmax')    \n",
    "])\n",
    "\n",
    "# Compile the model\n",
    "model.compile(optimizer='adam',\n",
    "              loss='sparse_categorical_crossentropy', \n",
    "              metrics=['accuracy']) \n"
   ]
  },
  {
   "cell_type": "code",
   "execution_count": 31,
   "id": "d8449ead",
   "metadata": {
    "execution": {
     "iopub.execute_input": "2024-12-21T09:23:00.201651Z",
     "iopub.status.busy": "2024-12-21T09:23:00.201215Z",
     "iopub.status.idle": "2024-12-21T09:23:00.222514Z",
     "shell.execute_reply": "2024-12-21T09:23:00.221175Z"
    },
    "papermill": {
     "duration": 0.034043,
     "end_time": "2024-12-21T09:23:00.224747",
     "exception": false,
     "start_time": "2024-12-21T09:23:00.190704",
     "status": "completed"
    },
    "tags": []
   },
   "outputs": [
    {
     "data": {
      "text/html": [
       "<pre style=\"white-space:pre;overflow-x:auto;line-height:normal;font-family:Menlo,'DejaVu Sans Mono',consolas,'Courier New',monospace\"><span style=\"font-weight: bold\">Model: \"sequential\"</span>\n",
       "</pre>\n"
      ],
      "text/plain": [
       "\u001b[1mModel: \"sequential\"\u001b[0m\n"
      ]
     },
     "metadata": {},
     "output_type": "display_data"
    },
    {
     "data": {
      "text/html": [
       "<pre style=\"white-space:pre;overflow-x:auto;line-height:normal;font-family:Menlo,'DejaVu Sans Mono',consolas,'Courier New',monospace\">┏━━━━━━━━━━━━━━━━━━━━━━━━━━━━━━━━━┳━━━━━━━━━━━━━━━━━━━━━━━━┳━━━━━━━━━━━━━━━┓\n",
       "┃<span style=\"font-weight: bold\"> Layer (type)                    </span>┃<span style=\"font-weight: bold\"> Output Shape           </span>┃<span style=\"font-weight: bold\">       Param # </span>┃\n",
       "┡━━━━━━━━━━━━━━━━━━━━━━━━━━━━━━━━━╇━━━━━━━━━━━━━━━━━━━━━━━━╇━━━━━━━━━━━━━━━┩\n",
       "│ embedding (<span style=\"color: #0087ff; text-decoration-color: #0087ff\">Embedding</span>)           │ ?                      │   <span style=\"color: #00af00; text-decoration-color: #00af00\">0</span> (unbuilt) │\n",
       "├─────────────────────────────────┼────────────────────────┼───────────────┤\n",
       "│ lstm (<span style=\"color: #0087ff; text-decoration-color: #0087ff\">LSTM</span>)                     │ ?                      │   <span style=\"color: #00af00; text-decoration-color: #00af00\">0</span> (unbuilt) │\n",
       "├─────────────────────────────────┼────────────────────────┼───────────────┤\n",
       "│ lstm_1 (<span style=\"color: #0087ff; text-decoration-color: #0087ff\">LSTM</span>)                   │ ?                      │   <span style=\"color: #00af00; text-decoration-color: #00af00\">0</span> (unbuilt) │\n",
       "├─────────────────────────────────┼────────────────────────┼───────────────┤\n",
       "│ lstm_2 (<span style=\"color: #0087ff; text-decoration-color: #0087ff\">LSTM</span>)                   │ ?                      │   <span style=\"color: #00af00; text-decoration-color: #00af00\">0</span> (unbuilt) │\n",
       "├─────────────────────────────────┼────────────────────────┼───────────────┤\n",
       "│ dense (<span style=\"color: #0087ff; text-decoration-color: #0087ff\">Dense</span>)                   │ ?                      │   <span style=\"color: #00af00; text-decoration-color: #00af00\">0</span> (unbuilt) │\n",
       "└─────────────────────────────────┴────────────────────────┴───────────────┘\n",
       "</pre>\n"
      ],
      "text/plain": [
       "┏━━━━━━━━━━━━━━━━━━━━━━━━━━━━━━━━━┳━━━━━━━━━━━━━━━━━━━━━━━━┳━━━━━━━━━━━━━━━┓\n",
       "┃\u001b[1m \u001b[0m\u001b[1mLayer (type)                   \u001b[0m\u001b[1m \u001b[0m┃\u001b[1m \u001b[0m\u001b[1mOutput Shape          \u001b[0m\u001b[1m \u001b[0m┃\u001b[1m \u001b[0m\u001b[1m      Param #\u001b[0m\u001b[1m \u001b[0m┃\n",
       "┡━━━━━━━━━━━━━━━━━━━━━━━━━━━━━━━━━╇━━━━━━━━━━━━━━━━━━━━━━━━╇━━━━━━━━━━━━━━━┩\n",
       "│ embedding (\u001b[38;5;33mEmbedding\u001b[0m)           │ ?                      │   \u001b[38;5;34m0\u001b[0m (unbuilt) │\n",
       "├─────────────────────────────────┼────────────────────────┼───────────────┤\n",
       "│ lstm (\u001b[38;5;33mLSTM\u001b[0m)                     │ ?                      │   \u001b[38;5;34m0\u001b[0m (unbuilt) │\n",
       "├─────────────────────────────────┼────────────────────────┼───────────────┤\n",
       "│ lstm_1 (\u001b[38;5;33mLSTM\u001b[0m)                   │ ?                      │   \u001b[38;5;34m0\u001b[0m (unbuilt) │\n",
       "├─────────────────────────────────┼────────────────────────┼───────────────┤\n",
       "│ lstm_2 (\u001b[38;5;33mLSTM\u001b[0m)                   │ ?                      │   \u001b[38;5;34m0\u001b[0m (unbuilt) │\n",
       "├─────────────────────────────────┼────────────────────────┼───────────────┤\n",
       "│ dense (\u001b[38;5;33mDense\u001b[0m)                   │ ?                      │   \u001b[38;5;34m0\u001b[0m (unbuilt) │\n",
       "└─────────────────────────────────┴────────────────────────┴───────────────┘\n"
      ]
     },
     "metadata": {},
     "output_type": "display_data"
    },
    {
     "data": {
      "text/html": [
       "<pre style=\"white-space:pre;overflow-x:auto;line-height:normal;font-family:Menlo,'DejaVu Sans Mono',consolas,'Courier New',monospace\"><span style=\"font-weight: bold\"> Total params: </span><span style=\"color: #00af00; text-decoration-color: #00af00\">0</span> (0.00 B)\n",
       "</pre>\n"
      ],
      "text/plain": [
       "\u001b[1m Total params: \u001b[0m\u001b[38;5;34m0\u001b[0m (0.00 B)\n"
      ]
     },
     "metadata": {},
     "output_type": "display_data"
    },
    {
     "data": {
      "text/html": [
       "<pre style=\"white-space:pre;overflow-x:auto;line-height:normal;font-family:Menlo,'DejaVu Sans Mono',consolas,'Courier New',monospace\"><span style=\"font-weight: bold\"> Trainable params: </span><span style=\"color: #00af00; text-decoration-color: #00af00\">0</span> (0.00 B)\n",
       "</pre>\n"
      ],
      "text/plain": [
       "\u001b[1m Trainable params: \u001b[0m\u001b[38;5;34m0\u001b[0m (0.00 B)\n"
      ]
     },
     "metadata": {},
     "output_type": "display_data"
    },
    {
     "data": {
      "text/html": [
       "<pre style=\"white-space:pre;overflow-x:auto;line-height:normal;font-family:Menlo,'DejaVu Sans Mono',consolas,'Courier New',monospace\"><span style=\"font-weight: bold\"> Non-trainable params: </span><span style=\"color: #00af00; text-decoration-color: #00af00\">0</span> (0.00 B)\n",
       "</pre>\n"
      ],
      "text/plain": [
       "\u001b[1m Non-trainable params: \u001b[0m\u001b[38;5;34m0\u001b[0m (0.00 B)\n"
      ]
     },
     "metadata": {},
     "output_type": "display_data"
    }
   ],
   "source": [
    "model.summary()"
   ]
  },
  {
   "cell_type": "code",
   "execution_count": 32,
   "id": "87035d08",
   "metadata": {
    "execution": {
     "iopub.execute_input": "2024-12-21T09:23:00.246648Z",
     "iopub.status.busy": "2024-12-21T09:23:00.246196Z",
     "iopub.status.idle": "2024-12-21T09:33:19.035804Z",
     "shell.execute_reply": "2024-12-21T09:33:19.034643Z"
    },
    "papermill": {
     "duration": 618.802957,
     "end_time": "2024-12-21T09:33:19.037911",
     "exception": false,
     "start_time": "2024-12-21T09:23:00.234954",
     "status": "completed"
    },
    "tags": []
   },
   "outputs": [
    {
     "name": "stdout",
     "output_type": "stream",
     "text": [
      "Epoch 1/10\n",
      "\u001b[1m1064/1064\u001b[0m \u001b[32m━━━━━━━━━━━━━━━━━━━━\u001b[0m\u001b[37m\u001b[0m \u001b[1m67s\u001b[0m 58ms/step - accuracy: 0.7900 - loss: 0.4886\n",
      "Epoch 2/10\n",
      "\u001b[1m1064/1064\u001b[0m \u001b[32m━━━━━━━━━━━━━━━━━━━━\u001b[0m\u001b[37m\u001b[0m \u001b[1m62s\u001b[0m 58ms/step - accuracy: 0.9444 - loss: 0.1729\n",
      "Epoch 3/10\n",
      "\u001b[1m1064/1064\u001b[0m \u001b[32m━━━━━━━━━━━━━━━━━━━━\u001b[0m\u001b[37m\u001b[0m \u001b[1m61s\u001b[0m 57ms/step - accuracy: 0.9619 - loss: 0.1180\n",
      "Epoch 4/10\n",
      "\u001b[1m1064/1064\u001b[0m \u001b[32m━━━━━━━━━━━━━━━━━━━━\u001b[0m\u001b[37m\u001b[0m \u001b[1m61s\u001b[0m 57ms/step - accuracy: 0.9725 - loss: 0.0908\n",
      "Epoch 5/10\n",
      "\u001b[1m1064/1064\u001b[0m \u001b[32m━━━━━━━━━━━━━━━━━━━━\u001b[0m\u001b[37m\u001b[0m \u001b[1m61s\u001b[0m 58ms/step - accuracy: 0.9781 - loss: 0.0704\n",
      "Epoch 6/10\n",
      "\u001b[1m1064/1064\u001b[0m \u001b[32m━━━━━━━━━━━━━━━━━━━━\u001b[0m\u001b[37m\u001b[0m \u001b[1m62s\u001b[0m 58ms/step - accuracy: 0.9828 - loss: 0.0557\n",
      "Epoch 7/10\n",
      "\u001b[1m1064/1064\u001b[0m \u001b[32m━━━━━━━━━━━━━━━━━━━━\u001b[0m\u001b[37m\u001b[0m \u001b[1m61s\u001b[0m 57ms/step - accuracy: 0.9879 - loss: 0.0386\n",
      "Epoch 8/10\n",
      "\u001b[1m1064/1064\u001b[0m \u001b[32m━━━━━━━━━━━━━━━━━━━━\u001b[0m\u001b[37m\u001b[0m \u001b[1m61s\u001b[0m 58ms/step - accuracy: 0.9922 - loss: 0.0249\n",
      "Epoch 9/10\n",
      "\u001b[1m1064/1064\u001b[0m \u001b[32m━━━━━━━━━━━━━━━━━━━━\u001b[0m\u001b[37m\u001b[0m \u001b[1m61s\u001b[0m 58ms/step - accuracy: 0.9921 - loss: 0.0240\n",
      "Epoch 10/10\n",
      "\u001b[1m1064/1064\u001b[0m \u001b[32m━━━━━━━━━━━━━━━━━━━━\u001b[0m\u001b[37m\u001b[0m \u001b[1m61s\u001b[0m 58ms/step - accuracy: 0.9937 - loss: 0.0170\n"
     ]
    },
    {
     "data": {
      "text/plain": [
       "<keras.src.callbacks.history.History at 0x7d97d3aa1e10>"
      ]
     },
     "execution_count": 32,
     "metadata": {},
     "output_type": "execute_result"
    }
   ],
   "source": [
    "model.fit(X_train,y_train,epochs = 10,batch_size = 32)"
   ]
  },
  {
   "cell_type": "code",
   "execution_count": 33,
   "id": "ae61531f",
   "metadata": {
    "execution": {
     "iopub.execute_input": "2024-12-21T09:33:20.340650Z",
     "iopub.status.busy": "2024-12-21T09:33:20.340180Z",
     "iopub.status.idle": "2024-12-21T09:33:26.184640Z",
     "shell.execute_reply": "2024-12-21T09:33:26.183372Z"
    },
    "papermill": {
     "duration": 6.448884,
     "end_time": "2024-12-21T09:33:26.186863",
     "exception": false,
     "start_time": "2024-12-21T09:33:19.737979",
     "status": "completed"
    },
    "tags": []
   },
   "outputs": [
    {
     "name": "stdout",
     "output_type": "stream",
     "text": [
      "\u001b[1m266/266\u001b[0m \u001b[32m━━━━━━━━━━━━━━━━━━━━\u001b[0m\u001b[37m\u001b[0m \u001b[1m6s\u001b[0m 20ms/step - accuracy: 0.8892 - loss: 0.5768\n",
      "Model Accuracy : 0.8880009651184082\n"
     ]
    }
   ],
   "source": [
    "loss, accuracy = model.evaluate(X_test,y_test)\n",
    "print(f'Model Accuracy : {accuracy}')"
   ]
  },
  {
   "cell_type": "code",
   "execution_count": 34,
   "id": "81e4d09b",
   "metadata": {
    "execution": {
     "iopub.execute_input": "2024-12-21T09:33:27.459207Z",
     "iopub.status.busy": "2024-12-21T09:33:27.458815Z",
     "iopub.status.idle": "2024-12-21T09:33:33.827877Z",
     "shell.execute_reply": "2024-12-21T09:33:33.826867Z"
    },
    "papermill": {
     "duration": 6.978529,
     "end_time": "2024-12-21T09:33:33.830159",
     "exception": false,
     "start_time": "2024-12-21T09:33:26.851630",
     "status": "completed"
    },
    "tags": []
   },
   "outputs": [
    {
     "name": "stdout",
     "output_type": "stream",
     "text": [
      "\u001b[1m266/266\u001b[0m \u001b[32m━━━━━━━━━━━━━━━━━━━━\u001b[0m\u001b[37m\u001b[0m \u001b[1m6s\u001b[0m 22ms/step\n"
     ]
    }
   ],
   "source": [
    "pred  = np.argmax(model.predict(X_test),axis = -1)"
   ]
  },
  {
   "cell_type": "code",
   "execution_count": 35,
   "id": "bb3b64ae",
   "metadata": {
    "execution": {
     "iopub.execute_input": "2024-12-21T09:33:35.118025Z",
     "iopub.status.busy": "2024-12-21T09:33:35.117476Z",
     "iopub.status.idle": "2024-12-21T09:33:35.124556Z",
     "shell.execute_reply": "2024-12-21T09:33:35.123502Z"
    },
    "papermill": {
     "duration": 0.622673,
     "end_time": "2024-12-21T09:33:35.126433",
     "exception": false,
     "start_time": "2024-12-21T09:33:34.503760",
     "status": "completed"
    },
    "tags": []
   },
   "outputs": [
    {
     "data": {
      "text/plain": [
       "array([2, 0, 1, 0, 1, 0, 2, 2, 1, 2, 1, 1, 0, 0, 0, 1, 0, 1, 1, 1, 0, 1,\n",
       "       1, 1, 2, 0, 1, 0, 0, 0])"
      ]
     },
     "execution_count": 35,
     "metadata": {},
     "output_type": "execute_result"
    }
   ],
   "source": [
    "y_test[:30]"
   ]
  },
  {
   "cell_type": "code",
   "execution_count": 36,
   "id": "68825ae7",
   "metadata": {
    "execution": {
     "iopub.execute_input": "2024-12-21T09:33:36.401888Z",
     "iopub.status.busy": "2024-12-21T09:33:36.401241Z",
     "iopub.status.idle": "2024-12-21T09:33:36.409749Z",
     "shell.execute_reply": "2024-12-21T09:33:36.408686Z"
    },
    "papermill": {
     "duration": 0.61875,
     "end_time": "2024-12-21T09:33:36.411858",
     "exception": false,
     "start_time": "2024-12-21T09:33:35.793108",
     "status": "completed"
    },
    "tags": []
   },
   "outputs": [
    {
     "data": {
      "text/plain": [
       "array([2, 0, 1, 0, 1, 0, 1, 2, 1, 2, 1, 1, 0, 2, 0, 1, 0, 1, 0, 1, 0, 1,\n",
       "       1, 1, 2, 0, 1, 0, 0, 0])"
      ]
     },
     "execution_count": 36,
     "metadata": {},
     "output_type": "execute_result"
    }
   ],
   "source": [
    "pred[:30]"
   ]
  },
  {
   "cell_type": "raw",
   "id": "c7648d77",
   "metadata": {
    "papermill": {
     "duration": 0.66447,
     "end_time": "2024-12-21T09:33:37.678361",
     "exception": false,
     "start_time": "2024-12-21T09:33:37.013891",
     "status": "completed"
    },
    "tags": []
   },
   "source": []
  },
  {
   "cell_type": "code",
   "execution_count": 37,
   "id": "03014118",
   "metadata": {
    "execution": {
     "iopub.execute_input": "2024-12-21T09:33:38.951415Z",
     "iopub.status.busy": "2024-12-21T09:33:38.950181Z",
     "iopub.status.idle": "2024-12-21T09:33:39.465486Z",
     "shell.execute_reply": "2024-12-21T09:33:39.464403Z"
    },
    "papermill": {
     "duration": 1.187302,
     "end_time": "2024-12-21T09:33:39.468800",
     "exception": false,
     "start_time": "2024-12-21T09:33:38.281498",
     "status": "completed"
    },
    "tags": []
   },
   "outputs": [
    {
     "name": "stdout",
     "output_type": "stream",
     "text": [
      "              precision    recall  f1-score   support\n",
      "\n",
      "           0       0.90      0.91      0.90      3869\n",
      "           1       0.92      0.89      0.90      3815\n",
      "           2       0.73      0.74      0.74       825\n",
      "\n",
      "    accuracy                           0.89      8509\n",
      "   macro avg       0.85      0.85      0.85      8509\n",
      "weighted avg       0.89      0.89      0.89      8509\n",
      "\n"
     ]
    }
   ],
   "source": [
    "from sklearn.metrics import classification_report, confusion_matrix\n",
    "import seaborn as sns\n",
    "print(classification_report(y_test,pred))"
   ]
  },
  {
   "cell_type": "code",
   "execution_count": 38,
   "id": "b003070f",
   "metadata": {
    "execution": {
     "iopub.execute_input": "2024-12-21T09:33:40.780218Z",
     "iopub.status.busy": "2024-12-21T09:33:40.779206Z",
     "iopub.status.idle": "2024-12-21T09:33:41.129911Z",
     "shell.execute_reply": "2024-12-21T09:33:41.128869Z"
    },
    "papermill": {
     "duration": 1.022742,
     "end_time": "2024-12-21T09:33:41.132177",
     "exception": false,
     "start_time": "2024-12-21T09:33:40.109435",
     "status": "completed"
    },
    "tags": []
   },
   "outputs": [
    {
     "data": {
      "text/plain": [
       "Text(50.722222222222214, 0.5, 'actual')"
      ]
     },
     "execution_count": 38,
     "metadata": {},
     "output_type": "execute_result"
    },
    {
     "data": {
      "image/png": "[encoded data removed]",
      "text/plain": [
       "<Figure size 640x480 with 2 Axes>"
      ]
     },
     "metadata": {},
     "output_type": "display_data"
    }
   ],
   "source": [
    "import matplotlib.pyplot as plt;\n",
    "cf = confusion_matrix(y_test,pred,normalize = 'true')\n",
    "sns.heatmap(cf,annot = True,cmap= 'crest');\n",
    "plt.xlabel('predicted')\n",
    "plt.ylabel('actual')"
   ]
  },
  {
   "cell_type": "code",
   "execution_count": null,
   "id": "9052f136",
   "metadata": {
    "papermill": {
     "duration": 0.67409,
     "end_time": "2024-12-21T09:33:42.412187",
     "exception": false,
     "start_time": "2024-12-21T09:33:41.738097",
     "status": "completed"
    },
    "tags": []
   },
   "outputs": [],
   "source": []
  }
 ],
 "metadata": {
  "kaggle": {
   "accelerator": "none",
   "dataSources": [
    {
     "datasetId": 723100,
     "sourceId": 1257215,
     "sourceType": "datasetVersion"
    }
   ],
   "dockerImageVersionId": 30804,
   "isGpuEnabled": false,
   "isInternetEnabled": false,
   "language": "python",
   "sourceType": "notebook"
  },
  "kernelspec": {
   "display_name": "Python 3",
   "language": "python",
   "name": "python3"
  },
  "language_info": {
   "codemirror_mode": {
    "name": "ipython",
    "version": 3
   },
   "file_extension": ".py",
   "mimetype": "text/x-python",
   "name": "python",
   "nbconvert_exporter": "python",
   "pygments_lexer": "ipython3",
   "version": "3.10.14"
  },
  "papermill": {
   "default_parameters": {},
   "duration": 1012.837918,
   "end_time": "2024-12-21T09:33:45.775238",
   "environment_variables": {},
   "exception": null,
   "input_path": "__notebook__.ipynb",
   "output_path": "__notebook__.ipynb",
   "parameters": {},
   "start_time": "2024-12-21T09:16:52.937320",
   "version": "2.6.0"
  }
 },
 "nbformat": 4,
 "nbformat_minor": 5
}
